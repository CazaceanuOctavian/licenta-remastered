{
 "cells": [
  {
   "cell_type": "code",
   "execution_count": null,
   "metadata": {},
   "outputs": [
    {
     "ename": "",
     "evalue": "",
     "output_type": "error",
     "traceback": [
      "\u001b[1;31mJupyter cannot be started. Error attempting to locate Jupyter: Running cells with '/nix/store/3s9zb8zb1976nlr5janb23nw7lwas3p9-python3-3.12.9-env/bin/python' requires the jupyter and notebook package.\n",
      "\u001b[1;31mRun the following command to install 'jupyter and notebook' into the Python environment. \n",
      "\u001b[1;31mCommand: 'python -m pip install jupyter notebook -U\n",
      "\u001b[1;31mor\n",
      "\u001b[1;31mconda install jupyter notebook -U'\n",
      "\u001b[1;31mClick <a href='https://aka.ms/installJupyterForVSCode'>here</a> for more info."
     ]
    }
   ],
   "source": [
    "import pandas as pd\n",
    "from pandas import json_normalize\n",
    "from sklearn.ensemble import RandomForestRegressor"
   ]
  },
  {
   "cell_type": "code",
   "execution_count": null,
   "metadata": {},
   "outputs": [
    {
     "ename": "",
     "evalue": "",
     "output_type": "error",
     "traceback": [
      "\u001b[1;31mJupyter cannot be started. Error attempting to locate Jupyter: Running cells with '/nix/store/3s9zb8zb1976nlr5janb23nw7lwas3p9-python3-3.12.9-env/bin/python' requires the jupyter and notebook package.\n",
      "\u001b[1;31mRun the following command to install 'jupyter and notebook' into the Python environment. \n",
      "\u001b[1;31mCommand: 'python -m pip install jupyter notebook -U\n",
      "\u001b[1;31mor\n",
      "\u001b[1;31mconda install jupyter notebook -U'\n",
      "\u001b[1;31mClick <a href='https://aka.ms/installJupyterForVSCode'>here</a> for more info."
     ]
    }
   ],
   "source": [
    "df = pd.read_json('datasets/evomag_2024_11_13.json')"
   ]
  },
  {
   "cell_type": "code",
   "execution_count": null,
   "metadata": {},
   "outputs": [
    {
     "ename": "",
     "evalue": "",
     "output_type": "error",
     "traceback": [
      "\u001b[1;31mJupyter cannot be started. Error attempting to locate Jupyter: Running cells with '/nix/store/3s9zb8zb1976nlr5janb23nw7lwas3p9-python3-3.12.9-env/bin/python' requires the jupyter and notebook package.\n",
      "\u001b[1;31mRun the following command to install 'jupyter and notebook' into the Python environment. \n",
      "\u001b[1;31mCommand: 'python -m pip install jupyter notebook -U\n",
      "\u001b[1;31mor\n",
      "\u001b[1;31mconda install jupyter notebook -U'\n",
      "\u001b[1;31mClick <a href='https://aka.ms/installJupyterForVSCode'>here</a> for more info."
     ]
    }
   ],
   "source": [
    "def extract_smartphones(df):\n",
    "    \"\"\"\n",
    "    Extract all products that have \"Smartphone\": \"Da\" in their specifications column.\n",
    "    \n",
    "    Parameters:\n",
    "    df (pandas.DataFrame): DataFrame containing product information with a 'specifications' column\n",
    "                          that contains dictionaries with product specs\n",
    "    \n",
    "    Returns:\n",
    "    pandas.DataFrame: A new DataFrame containing only smartphone products\n",
    "    \"\"\"\n",
    "    # Create a mask to filter products where specifications contains \"Smartphone\": \"Da\"\n",
    "    smartphone_mask = df['specifications'].apply(\n",
    "        lambda specs: isinstance(specs, dict) and specs.get('Smartphone') == 'Da'\n",
    "    )\n",
    "    \n",
    "    # Apply the mask to get only smartphone products\n",
    "    smartphones_df = df[smartphone_mask].copy()\n",
    "    \n",
    "    return smartphones_df\n",
    "\n",
    "# Example usage:\n",
    "# smartphones = extract_smartphones(df)\n",
    "# print(f\"Found {len(smartphones)} smartphones out of {len(df)} total products\")\n"
   ]
  },
  {
   "cell_type": "code",
   "execution_count": null,
   "metadata": {},
   "outputs": [
    {
     "ename": "",
     "evalue": "",
     "output_type": "error",
     "traceback": [
      "\u001b[1;31mJupyter cannot be started. Error attempting to locate Jupyter: Running cells with '/nix/store/3s9zb8zb1976nlr5janb23nw7lwas3p9-python3-3.12.9-env/bin/python' requires the jupyter and notebook package.\n",
      "\u001b[1;31mRun the following command to install 'jupyter and notebook' into the Python environment. \n",
      "\u001b[1;31mCommand: 'python -m pip install jupyter notebook -U\n",
      "\u001b[1;31mor\n",
      "\u001b[1;31mconda install jupyter notebook -U'\n",
      "\u001b[1;31mClick <a href='https://aka.ms/installJupyterForVSCode'>here</a> for more info."
     ]
    }
   ],
   "source": [
    "import pandas as pd\n",
    "from pandas import json_normalize\n",
    "\n",
    "def flatten_json_column(df, json_column):\n",
    "    \"\"\"\n",
    "    Flatten a JSON column in a DataFrame so that the fields become separate columns.\n",
    "    \n",
    "    Parameters:\n",
    "    -----------\n",
    "    df : pandas.DataFrame\n",
    "        The DataFrame containing the JSON column to flatten\n",
    "    json_column : str\n",
    "        The name of the column containing the JSON data to flatten\n",
    "        \n",
    "    Returns:\n",
    "    --------\n",
    "    pandas.DataFrame\n",
    "        A new DataFrame with the JSON column flattened into separate columns\n",
    "    \"\"\"\n",
    "    # Create a copy to avoid modifying the original DataFrame\n",
    "    result_df = df.copy()\n",
    "    \n",
    "    # Check if the JSON column exists in the DataFrame\n",
    "    if json_column not in result_df.columns:\n",
    "        raise ValueError(f\"Column '{json_column}' not found in DataFrame\")\n",
    "    \n",
    "    # Normalize the JSON column\n",
    "    try:\n",
    "        # Handle cases where some rows might have None/NaN values in the JSON column\n",
    "        mask = result_df[json_column].notna()\n",
    "        \n",
    "        if mask.any():\n",
    "            # Apply json_normalize only to rows that have valid JSON\n",
    "            normalized_df = json_normalize(result_df.loc[mask, json_column])\n",
    "            \n",
    "            # Drop the original JSON column from the result\n",
    "            result_subset = result_df.loc[mask].drop(json_column, axis=1)\n",
    "            \n",
    "            # Combine the original DataFrame (minus the JSON column) with the normalized data\n",
    "            flattened_subset = pd.concat([result_subset.reset_index(drop=True), \n",
    "                                          normalized_df.reset_index(drop=True)], \n",
    "                                         axis=1)\n",
    "            \n",
    "            # Merge back with rows that had None/NaN values\n",
    "            if (~mask).any():\n",
    "                result_df = pd.concat([flattened_subset, \n",
    "                                       result_df.loc[~mask]]).sort_index()\n",
    "            else:\n",
    "                result_df = flattened_subset\n",
    "        \n",
    "        return result_df\n",
    "        \n",
    "    except Exception as e:\n",
    "        raise ValueError(f\"Error flattening JSON column: {str(e)}\")"
   ]
  },
  {
   "cell_type": "code",
   "execution_count": null,
   "metadata": {},
   "outputs": [
    {
     "ename": "",
     "evalue": "",
     "output_type": "error",
     "traceback": [
      "\u001b[1;31mJupyter cannot be started. Error attempting to locate Jupyter: Running cells with '/nix/store/3s9zb8zb1976nlr5janb23nw7lwas3p9-python3-3.12.9-env/bin/python' requires the jupyter and notebook package.\n",
      "\u001b[1;31mRun the following command to install 'jupyter and notebook' into the Python environment. \n",
      "\u001b[1;31mCommand: 'python -m pip install jupyter notebook -U\n",
      "\u001b[1;31mor\n",
      "\u001b[1;31mconda install jupyter notebook -U'\n",
      "\u001b[1;31mClick <a href='https://aka.ms/installJupyterForVSCode'>here</a> for more info."
     ]
    }
   ],
   "source": [
    "df_smartphone = extract_smartphones(df)\n",
    "df_smartphone_normalised = flatten_json_column(df_smartphone, 'specifications')"
   ]
  },
  {
   "cell_type": "code",
   "execution_count": null,
   "metadata": {},
   "outputs": [
    {
     "ename": "",
     "evalue": "",
     "output_type": "error",
     "traceback": [
      "\u001b[1;31mJupyter cannot be started. Error attempting to locate Jupyter: Running cells with '/nix/store/3s9zb8zb1976nlr5janb23nw7lwas3p9-python3-3.12.9-env/bin/python' requires the jupyter and notebook package.\n",
      "\u001b[1;31mRun the following command to install 'jupyter and notebook' into the Python environment. \n",
      "\u001b[1;31mCommand: 'python -m pip install jupyter notebook -U\n",
      "\u001b[1;31mor\n",
      "\u001b[1;31mconda install jupyter notebook -U'\n",
      "\u001b[1;31mClick <a href='https://aka.ms/installJupyterForVSCode'>here</a> for more info."
     ]
    }
   ],
   "source": [
    "df_smartphone_normalised.head()"
   ]
  },
  {
   "cell_type": "markdown",
   "metadata": {},
   "source": [
    "Raw features that we use in prediction"
   ]
  },
  {
   "cell_type": "code",
   "execution_count": null,
   "metadata": {},
   "outputs": [
    {
     "ename": "",
     "evalue": "",
     "output_type": "error",
     "traceback": [
      "\u001b[1;31mJupyter cannot be started. Error attempting to locate Jupyter: Running cells with '/nix/store/3s9zb8zb1976nlr5janb23nw7lwas3p9-python3-3.12.9-env/bin/python' requires the jupyter and notebook package.\n",
      "\u001b[1;31mRun the following command to install 'jupyter and notebook' into the Python environment. \n",
      "\u001b[1;31mCommand: 'python -m pip install jupyter notebook -U\n",
      "\u001b[1;31mor\n",
      "\u001b[1;31mconda install jupyter notebook -U'\n",
      "\u001b[1;31mClick <a href='https://aka.ms/installJupyterForVSCode'>here</a> for more info."
     ]
    }
   ],
   "source": [
    "df_model_training = pd.DataFrame()\n",
    "df_model_training['5G'] = df_smartphone_normalised['5G']\n",
    "df_model_training['4G'] = df_smartphone_normalised['4G']\n",
    "\n",
    "df_model_training[['resolution width', 'resolution height']] = df_smartphone_normalised['Rezolutie maxima (px)'].str.split(' x ', expand=True)\n",
    "\n",
    "df_model_training['Diagonala'] = df_smartphone_normalised['Diagonala (inch)']\n",
    "df_model_training['Numar nuclee'] = df_smartphone_normalised['Numar nuclee']\n",
    "df_model_training['Memorie Flash'] = df_smartphone_normalised['Memorie Flash']\n",
    "df_model_training['Memorie RAM'] = df_smartphone_normalised['Memorie RAM']\n",
    "df_model_training['Incarcare Wireless'] = df_smartphone_normalised['Incarcare Wireless']\n",
    "df_model_training['Capacitate Baterie'] = df_smartphone_normalised['Capacitate'] \n",
    "df_model_training['Dual SIM'] = df_smartphone_normalised['Dual SIM']\n",
    "# df_model_training['Manufacturer'] = df_smartphone_normalised['manufacturer']\n",
    "df_model_training['price'] = df_smartphone_normalised['price']\n",
    "\n",
    "df_model_training.head()"
   ]
  },
  {
   "cell_type": "markdown",
   "metadata": {},
   "source": [
    "Cleaned up features that we use in predicitons"
   ]
  },
  {
   "cell_type": "code",
   "execution_count": null,
   "metadata": {},
   "outputs": [
    {
     "ename": "",
     "evalue": "",
     "output_type": "error",
     "traceback": [
      "\u001b[1;31mJupyter cannot be started. Error attempting to locate Jupyter: Running cells with '/nix/store/3s9zb8zb1976nlr5janb23nw7lwas3p9-python3-3.12.9-env/bin/python' requires the jupyter and notebook package.\n",
      "\u001b[1;31mRun the following command to install 'jupyter and notebook' into the Python environment. \n",
      "\u001b[1;31mCommand: 'python -m pip install jupyter notebook -U\n",
      "\u001b[1;31mor\n",
      "\u001b[1;31mconda install jupyter notebook -U'\n",
      "\u001b[1;31mClick <a href='https://aka.ms/installJupyterForVSCode'>here</a> for more info."
     ]
    }
   ],
   "source": [
    "df_model_training['5G'].fillna(0, inplace=True)\n",
    "df_model_training['5G'].replace('Da', 1, inplace=True)\n",
    "df_model_training['5G'].replace('Nu', 0, inplace=True)\n",
    "\n",
    "\n",
    "df_model_training['4G'].fillna(0, inplace=True)\n",
    "df_model_training['4G'].replace('Da', 1, inplace=True)\n",
    "df_model_training['4G'].replace('Nu', 0, inplace=True)\n",
    "\n",
    "\n",
    "df_model_training['resolution width'] = pd.to_numeric(df_model_training['resolution width'], errors='coerce')\n",
    "df_model_training['resolution height'] = pd.to_numeric(df_model_training['resolution height'], errors='coerce')\n",
    "\n",
    "df_model_training['resolution height'].fillna(0, inplace=True)\n",
    "df_model_training['resolution width'].fillna(0, inplace=True)\n",
    "\n",
    "df_model_training['Diagonala'] = pd.to_numeric(df_model_training['Diagonala'], errors='coerce')\n",
    "df_model_training['Diagonala'].fillna(0, inplace=True)\n",
    "\n",
    "df_model_training['Numar nuclee'] = df_model_training['Numar nuclee'].str.split('(').str[0]\n",
    "df_model_training['Numar nuclee'] = pd.to_numeric(df_model_training['Numar nuclee'], errors='coerce')\n",
    "df_model_training['Numar nuclee'].fillna(0, inplace=True)\n",
    "\n",
    "df_model_training['Memorie RAM'] = df_model_training['Memorie RAM'].str.split(' ').str[0]\n",
    "df_model_training['Memorie RAM'] = pd.to_numeric(df_model_training['Memorie RAM'], errors='coerce')\n",
    "df_model_training['Memorie RAM'].fillna(0, inplace=True)\n",
    "\n",
    "df_model_training['Memorie Flash'] = df_model_training['Memorie Flash'].str.split(' ').str[0]\n",
    "df_model_training['Memorie Flash'] = pd.to_numeric(df_model_training['Memorie Flash'], errors='coerce')\n",
    "df_model_training['Memorie Flash'].fillna(0, inplace=True)\n",
    "\n",
    "df_model_training['Incarcare Wireless'].fillna(0, inplace=True)\n",
    "df_model_training['Incarcare Wireless'].replace('Da', 1, inplace=True)\n",
    "df_model_training['Incarcare Wireless'].replace('Nu', 0, inplace=True)\n",
    "\n",
    "\n",
    "df_model_training['Capacitate Baterie'] = df_model_training['Capacitate Baterie'].str.split(' ').str[0]\n",
    "df_model_training['Capacitate Baterie'] = pd.to_numeric(df_model_training['Capacitate Baterie'], errors='coerce')\n",
    "df_model_training['Capacitate Baterie'].fillna(0, inplace=True)\n",
    "\n",
    "df_model_training['Dual SIM'].fillna(0, inplace=True)\n",
    "df_model_training['Dual SIM'].replace('Da', 1, inplace=True)\n",
    "df_model_training['Dual SIM'].replace('Nu', 0, inplace=True)\n",
    "\n",
    "\n",
    "# manufacturers = df_model_training['Manufacturer'].unique()\n",
    "# manufacturer_mapping = {manufacturer: i for i, manufacturer in enumerate(sorted(manufacturers))}\n",
    "\n",
    "# # Apply the mapping to create a new encoded column\n",
    "# df_model_training['Manufacturer'] = df_model_training['Manufacturer'].map(manufacturer_mapping)\n",
    "\n",
    "\n",
    "df_model_training"
   ]
  },
  {
   "cell_type": "code",
   "execution_count": null,
   "metadata": {},
   "outputs": [
    {
     "ename": "",
     "evalue": "",
     "output_type": "error",
     "traceback": [
      "\u001b[1;31mJupyter cannot be started. Error attempting to locate Jupyter: Running cells with '/nix/store/3s9zb8zb1976nlr5janb23nw7lwas3p9-python3-3.12.9-env/bin/python' requires the jupyter and notebook package.\n",
      "\u001b[1;31mRun the following command to install 'jupyter and notebook' into the Python environment. \n",
      "\u001b[1;31mCommand: 'python -m pip install jupyter notebook -U\n",
      "\u001b[1;31mor\n",
      "\u001b[1;31mconda install jupyter notebook -U'\n",
      "\u001b[1;31mClick <a href='https://aka.ms/installJupyterForVSCode'>here</a> for more info."
     ]
    }
   ],
   "source": [
    "df_reg = df_model_training.drop('price', axis=1)\n",
    "y = df_model_training['price']"
   ]
  },
  {
   "cell_type": "code",
   "execution_count": null,
   "metadata": {},
   "outputs": [
    {
     "ename": "",
     "evalue": "",
     "output_type": "error",
     "traceback": [
      "\u001b[1;31mJupyter cannot be started. Error attempting to locate Jupyter: Running cells with '/nix/store/3s9zb8zb1976nlr5janb23nw7lwas3p9-python3-3.12.9-env/bin/python' requires the jupyter and notebook package.\n",
      "\u001b[1;31mRun the following command to install 'jupyter and notebook' into the Python environment. \n",
      "\u001b[1;31mCommand: 'python -m pip install jupyter notebook -U\n",
      "\u001b[1;31mor\n",
      "\u001b[1;31mconda install jupyter notebook -U'\n",
      "\u001b[1;31mClick <a href='https://aka.ms/installJupyterForVSCode'>here</a> for more info."
     ]
    }
   ],
   "source": [
    "# Approach 1: If df_model_training and y have different lengths\n",
    "# Make sure they have the same index and align them\n",
    "df_reg = df_reg.loc[y.index]  # If y is a Series\n",
    "# OR\n",
    "y = y[df_reg.index]  # Adjust y to match df_model_training\n",
    "\n",
    "# Approach 2: If using the wrong dataframe for feature names\n",
    "rf = RandomForestRegressor()\n",
    "rf.fit(df_reg, y)\n",
    "\n",
    "# Get feature importance using the correct columns\n",
    "rf_importance = pd.DataFrame({\n",
    "    'Feature': df_reg.columns,  # Use the same dataframe you used for training\n",
    "    'Importance': rf.feature_importances_\n",
    "})\n",
    "print(rf_importance.sort_values('Importance', ascending=False))"
   ]
  },
  {
   "cell_type": "code",
   "execution_count": null,
   "metadata": {},
   "outputs": [
    {
     "ename": "",
     "evalue": "",
     "output_type": "error",
     "traceback": [
      "\u001b[1;31mJupyter cannot be started. Error attempting to locate Jupyter: Running cells with '/nix/store/3s9zb8zb1976nlr5janb23nw7lwas3p9-python3-3.12.9-env/bin/python' requires the jupyter and notebook package.\n",
      "\u001b[1;31mRun the following command to install 'jupyter and notebook' into the Python environment. \n",
      "\u001b[1;31mCommand: 'python -m pip install jupyter notebook -U\n",
      "\u001b[1;31mor\n",
      "\u001b[1;31mconda install jupyter notebook -U'\n",
      "\u001b[1;31mClick <a href='https://aka.ms/installJupyterForVSCode'>here</a> for more info."
     ]
    }
   ],
   "source": [
    "from sklearn.metrics import mean_squared_error, mean_absolute_error, r2_score\n",
    "from sklearn.model_selection import cross_val_score\n",
    "\n",
    "# For regression models\n",
    "predictions = rf.predict(df_reg)\n",
    "print(f\"R² Score: {r2_score(y, predictions)}\")\n",
    "print(f\"Mean Squared Error: {mean_squared_error(y, predictions)}\")\n",
    "print(f\"Root Mean Squared Error: {mean_squared_error(y, predictions, squared=False)}\")\n",
    "print(f\"Mean Absolute Error: {mean_absolute_error(y, predictions)}\")\n",
    "\n",
    "# Cross-validation (more robust evaluation)\n",
    "cv_scores = cross_val_score(rf, df_model_training, y, cv=5, scoring='r2')\n",
    "print(f\"Cross-validation R² scores: {cv_scores}\")\n",
    "print(f\"Mean CV R² score: {cv_scores.mean()}\")"
   ]
  }
 ],
 "metadata": {
  "kernelspec": {
   "display_name": "Python 3",
   "language": "python",
   "name": "python3"
  },
  "language_info": {
   "codemirror_mode": {
    "name": "ipython",
    "version": 3
   },
   "file_extension": ".py",
   "mimetype": "text/x-python",
   "name": "python",
   "nbconvert_exporter": "python",
   "pygments_lexer": "ipython3",
   "version": "3.12.9"
  }
 },
 "nbformat": 4,
 "nbformat_minor": 2
}
